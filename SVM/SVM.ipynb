{
 "cells": [
  {
   "cell_type": "code",
   "execution_count": null,
   "metadata": {
    "id": "LPR_5Zdx245p"
   },
   "outputs": [],
   "source": [
    "import numpy as np\n",
    "import matplotlib.pyplot as plt\n",
    "import pandas as pd\n",
    "from sklearn import svm,datasets\n",
    "from sklearn.svm import SVC\n"
   ]
  },
  {
   "cell_type": "code",
   "execution_count": null,
   "metadata": {
    "id": "JkDPl-1J3MQ9"
   },
   "outputs": [],
   "source": [
    "dataset = datasets.load_iris()"
   ]
  },
  {
   "cell_type": "code",
   "execution_count": null,
   "metadata": {
    "id": "jPv4nDJW3YRu"
   },
   "outputs": [],
   "source": [
    "dataset"
   ]
  },
  {
   "cell_type": "code",
   "execution_count": null,
   "metadata": {
    "id": "D03jd2Cd3Z6R"
   },
   "outputs": [],
   "source": [
    "# types of kernal\n",
    "# linear ->if dataset linearly separable , polynomial -> if not much spreaded but not liner\n"
   ]
  },
  {
   "cell_type": "code",
   "execution_count": null,
   "metadata": {
    "id": "HcH-HNqt4OCG"
   },
   "outputs": [],
   "source": [
    "x=dataset.data[:,:-2]\n",
    "y=dataset.target"
   ]
  },
  {
   "cell_type": "code",
   "execution_count": null,
   "metadata": {
    "id": "evbwFrx54WG5"
   },
   "outputs": [],
   "source": [
    "svc = svm.SVC(kernel='linear',C=1).fit(x,y)"
   ]
  },
  {
   "cell_type": "code",
   "execution_count": null,
   "metadata": {
    "id": "Y_RpwRXn4je2"
   },
   "outputs": [],
   "source": [
    "rbf_svm = svm.SVC(kernel='rbf',C=1,gamma=0.5).fit(x,y)"
   ]
  },
  {
   "cell_type": "code",
   "execution_count": null,
   "metadata": {
    "id": "4LclaGoZ40e6"
   },
   "outputs": [],
   "source": [
    "poly_svm = svm.SVC(kernel='poly',degree=5,C=1).fit(x,y)"
   ]
  },
  {
   "cell_type": "code",
   "execution_count": null,
   "metadata": {
    "id": "l5UyOrbC6pCH"
   },
   "outputs": [],
   "source": [
    "from sklearn.metrics import (\n",
    "    accuracy_score,\n",
    "    confusion_matrix,\n",
    "    classification_report,\n",
    "    ConfusionMatrixDisplay\n",
    ")"
   ]
  },
  {
   "cell_type": "code",
   "execution_count": null,
   "metadata": {
    "colab": {
     "base_uri": "https://localhost:8080/"
    },
    "id": "YPIKD8F-7r9j",
    "outputId": "f07b2b5b-774a-4bb6-ca85-d667496cd830"
   },
   "outputs": [
    {
     "name": "stdout",
     "output_type": "stream",
     "text": [
      "Linear 0.82\n",
      "confusion matrix [[50  0  0]\n",
      " [ 0 38 12]\n",
      " [ 0 15 35]]\n",
      "              precision    recall  f1-score   support\n",
      "\n",
      "           0       1.00      1.00      1.00        50\n",
      "           1       0.72      0.76      0.74        50\n",
      "           2       0.74      0.70      0.72        50\n",
      "\n",
      "    accuracy                           0.82       150\n",
      "   macro avg       0.82      0.82      0.82       150\n",
      "weighted avg       0.82      0.82      0.82       150\n",
      "\n"
     ]
    }
   ],
   "source": [
    "y_pred = svc.predict(x)\n",
    "print(\"Linear\",accuracy_score(y,y_pred))\n",
    "print(\"confusion matrix\",confusion_matrix(y,y_pred))\n",
    "print(classification_report(y,y_pred))"
   ]
  },
  {
   "cell_type": "code",
   "execution_count": null,
   "metadata": {
    "colab": {
     "base_uri": "https://localhost:8080/"
    },
    "id": "bC8LeMGM8I8o",
    "outputId": "828d1af7-783f-41dc-ba9f-1cb6fe70e896"
   },
   "outputs": [
    {
     "name": "stdout",
     "output_type": "stream",
     "text": [
      "polunomial 0.7933333333333333\n",
      "confusion matrix [[50  0  0]\n",
      " [ 0 38 12]\n",
      " [ 0 19 31]]\n",
      "              precision    recall  f1-score   support\n",
      "\n",
      "           0       1.00      1.00      1.00        50\n",
      "           1       0.67      0.76      0.71        50\n",
      "           2       0.72      0.62      0.67        50\n",
      "\n",
      "    accuracy                           0.79       150\n",
      "   macro avg       0.80      0.79      0.79       150\n",
      "weighted avg       0.80      0.79      0.79       150\n",
      "\n"
     ]
    }
   ],
   "source": [
    "y_pred = poly_svm.predict(x)\n",
    "print(\"polunomial\",accuracy_score(y,y_pred))\n",
    "print(\"confusion matrix\",confusion_matrix(y,y_pred))\n",
    "print(classification_report(y,y_pred))"
   ]
  },
  {
   "cell_type": "code",
   "execution_count": null,
   "metadata": {
    "id": "T-xGwQtX8d2S"
   },
   "outputs": [],
   "source": [
    "# macro avg -> direct average\n",
    "# weightted avg -> after multiplicaiotn with support"
   ]
  }
 ],
 "metadata": {
  "colab": {
   "provenance": []
  },
  "kernelspec": {
   "display_name": "Python 3",
   "name": "python3"
  },
  "language_info": {
   "name": "python"
  }
 },
 "nbformat": 4,
 "nbformat_minor": 0
}
